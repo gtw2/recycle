{
 "cells": [
  {
   "cell_type": "code",
   "execution_count": 5,
   "metadata": {},
   "outputs": [],
   "source": [
    "import numpy as np\n",
    "import pandas as pd\n",
    "import matplotlib.pyplot as plt\n",
    "import matplotlib.dates as mdates\n",
    "\n",
    "import csv\n",
    "import collections\n",
    "from collections import defaultdict\n",
    "import dateutil.parser as date\n",
    "import matplotlib.pyplot as plt\n",
    "import numpy as np\n",
    "import os\n",
    "import pathlib\n",
    "import sys\n",
    "import operator\n",
    "import re \n",
    "import sqlite3 as lite\n",
    "from matplotlib import cm\n",
    "from pyne import nucname as nn\n",
    "from IPython.display import Image, HTML, display\n",
    "import seaborn as sns \n",
    "\n",
    "sys.path.append('../../transition-scenarios/scripts/')\n",
    "import analysis as an\n",
    "\n",
    "try:\n",
    "    import cPickle as pickle \n",
    "except ImportError: \n",
    "    import pickle"
   ]
  },
  {
   "cell_type": "code",
   "execution_count": 3,
   "metadata": {},
   "outputs": [
    {
     "name": "stdout",
     "output_type": "stream",
     "text": [
      "              :                                                               \r\n",
      "          .CL:CC CC             _Q     _Q  _Q_Q    _Q    _Q              _Q   \r\n",
      "        CC;CCCCCCCC:C;         /_\\)   /_\\)/_/\\\\)  /_\\)  /_\\)            /_\\)  \r\n",
      "        CCCCCCCCCCCCCl       __O|/O___O|/O_OO|/O__O|/O__O|/O____________O|/O__\r\n",
      "     CCCCCCf     iCCCLCC     /////////////////////////////////////////////////\r\n",
      "     iCCCt  ;;;;;.  CCCC                                                      \r\n",
      "    CCCC  ;;;;;;;;;. CClL.                          c                         \r\n",
      "   CCCC ,;;       ;;: CCCC  ;                   : CCCCi                       \r\n",
      "    CCC ;;         ;;  CC   ;;:                CCC`   `C;                     \r\n",
      "  lCCC ;;              CCCC  ;;;:             :CC .;;. C;   ;    :   ;  :;;   \r\n",
      "  CCCC ;.              CCCC    ;;;,           CC ;    ; Ci  ;    :   ;  :  ;  \r\n",
      "   iCC :;               CC       ;;;,        ;C ;       CC  ;    :   ; .      \r\n",
      "  CCCi ;;               CCC        ;;;.      .C ;       tf  ;    :   ;  ;.    \r\n",
      "  CCC  ;;               CCC          ;;;;;;; fC :       lC  ;    :   ;    ;:  \r\n",
      "   iCf ;;               CC         :;;:      tC ;       CC  ;    :   ;     ;  \r\n",
      "  fCCC :;              LCCf      ;;;:         LC :.  ,: C   ;    ;   ; ;   ;  \r\n",
      "  CCCC  ;;             CCCC    ;;;:           CCi `;;` CC.  ;;;; :;.;.  ; ,;  \r\n",
      "    CCl ;;             CC    ;;;;              CCC    CCL                     \r\n",
      "   tCCC  ;;        ;; CCCL  ;;;                  tCCCCC.                      \r\n",
      "    CCCC  ;;     :;; CCCCf  ;                     ,L                          \r\n",
      "     lCCC   ;;;;;;  CCCL                                                      \r\n",
      "     CCCCCC  :;;  fCCCCC                                                      \r\n",
      "      . CCCC     CCCC .                                                       \r\n",
      "       .CCCCCCCCCCCCCi                                                        \r\n",
      "          iCCCCCLCf                                                           \r\n",
      "           .  C. ,                                                            \r\n",
      "              :                                                               \r\n",
      " ERROR(core  ):No module found for path libcycamore.so\r\n"
     ]
    }
   ],
   "source": [
    "!rm pride.sqlite\n",
    "!cyclus pride.xml -o pride.sqlite --warn-limit 0"
   ]
  },
  {
   "cell_type": "code",
   "execution_count": null,
   "metadata": {},
   "outputs": [],
   "source": [
    "!rm pride_max.sqlite\n",
    "!cyclus pride.xml -o pride_max.sqlite --warn-limit 0"
   ]
  },
  {
   "cell_type": "code",
   "execution_count": 63,
   "metadata": {},
   "outputs": [],
   "source": [
    "cursor_1 = an.get_cursor('pride.sqlite')\n",
    "cursor_2 = an.get_cursor('pride_max.sqlite')"
   ]
  },
  {
   "cell_type": "code",
   "execution_count": 70,
   "metadata": {},
   "outputs": [],
   "source": [
    "def stream_waste(cur):\n",
    "    \"\"\" Find total isotopes present in spent fuel output by reactor for each cooling pool and sum cumulatively \n",
    "    \n",
    "    Parameters \n",
    "    ----------\n",
    "    cur: sqlite cursor \n",
    "    \n",
    "    Returns \n",
    "    -------\n",
    "    list of isotopes in spent fuel output by reactors added cumulatively for each cooling pool\n",
    "    \"\"\"    \n",
    "    \n",
    "    streamlist = [\"reduct_waste\",\"volox_waste\",\"winning_waste\"]\n",
    "    waste_dict = {}\n",
    "    \n",
    "    init_yr, init_month, duration, timestep = an.get_timesteps(cur)\n",
    "    for stream in streamlist:\n",
    "        waste = cur.execute('SELECT time, value FROM separationevents '\n",
    "                            'WHERE Type= \"%s\"' %stream).fetchall()\n",
    "        timeseries = an.get_timeseries(waste, duration, kg_to_tons=False)\n",
    "        waste_dict[stream] = timeseries\n",
    "    \n",
    "    return waste_dict"
   ]
  },
  {
   "cell_type": "code",
   "execution_count": 71,
   "metadata": {},
   "outputs": [],
   "source": [
    "waste_dict = stream_waste(cursor_1)"
   ]
  },
  {
   "cell_type": "code",
   "execution_count": 72,
   "metadata": {},
   "outputs": [
    {
     "name": "stdout",
     "output_type": "stream",
     "text": [
      "[ 0.  1.  2.  3.  4.  5.  6.  7.  8.  9. 10. 11. 12. 13. 14. 15. 16. 17.\n",
      " 18. 19.]\n"
     ]
    },
    {
     "data": {
      "image/png": "[encoded data removed]",
      "text/plain": [
       "<matplotlib.figure.Figure at 0x7f75d932cf60>"
      ]
     },
     "metadata": {},
     "output_type": "display_data"
    }
   ],
   "source": [
    "init_yr, init_month, duration, timestep = an.get_timesteps(cursor_1)\n",
    "print(timestep)\n",
    "for key, val in waste_dict.items():\n",
    "    plt.plot(timestep, val, label=key)\n",
    "\n",
    "plt.legend()\n",
    "plt.show()\n",
    "plt.close()"
   ]
  },
  {
   "cell_type": "code",
   "execution_count": 73,
   "metadata": {},
   "outputs": [],
   "source": [
    "def stream_prod(cur):\n",
    "    \"\"\" Find total isotopes present in spent fuel output by reactor for each cooling pool and sum cumulatively \n",
    "    \n",
    "    Parameters \n",
    "    ----------\n",
    "    cur: sqlite cursor \n",
    "    \n",
    "    Returns \n",
    "    -------\n",
    "    list of isotopes in spent fuel output by reactors added cumulatively for each cooling pool\n",
    "    \"\"\"    \n",
    "    \n",
    "    streamlist = [\"refine_U_prod\",\"refine_TRU_prod\"]\n",
    "    prod_dict = {}\n",
    "    \n",
    "    init_yr, init_month, duration, timestep = an.get_timesteps(cur)\n",
    "    for stream in streamlist:\n",
    "        prod = cur.execute('SELECT time, value FROM separationevents '\n",
    "                            'WHERE Type= \"%s\"' %stream).fetchall()\n",
    "        timeseries = an.get_timeseries(prod, duration, kg_to_tons=False)\n",
    "        prod_dict[stream] = timeseries\n",
    "    \n",
    "    return prod_dict"
   ]
  },
  {
   "cell_type": "code",
   "execution_count": 74,
   "metadata": {},
   "outputs": [],
   "source": [
    "prod_dict = stream_prod(cursor_1)"
   ]
  },
  {
   "cell_type": "code",
   "execution_count": 75,
   "metadata": {},
   "outputs": [
    {
     "name": "stdout",
     "output_type": "stream",
     "text": [
      "[ 0.  1.  2.  3.  4.  5.  6.  7.  8.  9. 10. 11. 12. 13. 14. 15. 16. 17.\n",
      " 18. 19.]\n"
     ]
    },
    {
     "data": {
      "image/png": "[encoded data removed]",
      "text/plain": [
       "<matplotlib.figure.Figure at 0x7f75d8ce0748>"
      ]
     },
     "metadata": {},
     "output_type": "display_data"
    }
   ],
   "source": [
    "init_yr, init_month, duration, timestep = an.get_timesteps(cursor_1)\n",
    "print(timestep)\n",
    "for key, val in prod_dict.items():\n",
    "    plt.semilogy(timestep, val, label=key)\n",
    "\n",
    "plt.legend()\n",
    "plt.show()\n",
    "plt.close()"
   ]
  },
  {
   "cell_type": "code",
   "execution_count": null,
   "metadata": {},
   "outputs": [],
   "source": []
  },
  {
   "cell_type": "code",
   "execution_count": null,
   "metadata": {},
   "outputs": [],
   "source": []
  }
 ],
 "metadata": {
  "kernelspec": {
   "display_name": "Python 3",
   "language": "python",
   "name": "python3"
  },
  "language_info": {
   "codemirror_mode": {
    "name": "ipython",
    "version": 3
   },
   "file_extension": ".py",
   "mimetype": "text/x-python",
   "name": "python",
   "nbconvert_exporter": "python",
   "pygments_lexer": "ipython3",
   "version": "3.6.4"
  }
 },
 "nbformat": 4,
 "nbformat_minor": 2
}
