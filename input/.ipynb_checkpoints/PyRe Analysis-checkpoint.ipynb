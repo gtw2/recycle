{
 "cells": [
  {
   "cell_type": "code",
   "execution_count": 8,
   "metadata": {},
   "outputs": [],
   "source": [
    "import numpy as np\n",
    "import pandas as pd\n",
    "import matplotlib.pyplot as plt\n",
    "import matplotlib.dates as mdates\n",
    "\n",
    "import csv\n",
    "import collections\n",
    "from collections import defaultdict\n",
    "import dateutil.parser as date\n",
    "import matplotlib.pyplot as plt\n",
    "import numpy as np\n",
    "import os\n",
    "import pathlib\n",
    "import sys\n",
    "import operator\n",
    "import re \n",
    "import sqlite3 as lite\n",
    "from matplotlib import cm\n",
    "from pyne import nucname as nn\n",
    "from IPython.display import Image, HTML, display\n",
    "import seaborn as sns \n",
    "\n",
    "sys.path.append('../../transition-scenarios/scripts/')\n",
    "import analysis as an\n",
    "\n",
    "try:\n",
    "    import cPickle as pickle \n",
    "except ImportError: \n",
    "    import pickle"
   ]
  },
  {
   "cell_type": "code",
   "execution_count": 10,
   "metadata": {},
   "outputs": [
    {
     "name": "stdout",
     "output_type": "stream",
     "text": [
      "              :                                                               \n",
      "          .CL:CC CC             _Q     _Q  _Q_Q    _Q    _Q              _Q   \n",
      "        CC;CCCCCCCC:C;         /_\\)   /_\\)/_/\\\\)  /_\\)  /_\\)            /_\\)  \n",
      "        CCCCCCCCCCCCCl       __O|/O___O|/O_OO|/O__O|/O__O|/O____________O|/O__\n",
      "     CCCCCCf     iCCCLCC     /////////////////////////////////////////////////\n",
      "     iCCCt  ;;;;;.  CCCC                                                      \n",
      "    CCCC  ;;;;;;;;;. CClL.                          c                         \n",
      "   CCCC ,;;       ;;: CCCC  ;                   : CCCCi                       \n",
      "    CCC ;;         ;;  CC   ;;:                CCC`   `C;                     \n",
      "  lCCC ;;              CCCC  ;;;:             :CC .;;. C;   ;    :   ;  :;;   \n",
      "  CCCC ;.              CCCC    ;;;,           CC ;    ; Ci  ;    :   ;  :  ;  \n",
      "   iCC :;               CC       ;;;,        ;C ;       CC  ;    :   ; .      \n",
      "  CCCi ;;               CCC        ;;;.      .C ;       tf  ;    :   ;  ;.    \n",
      "  CCC  ;;               CCC          ;;;;;;; fC :       lC  ;    :   ;    ;:  \n",
      "   iCf ;;               CC         :;;:      tC ;       CC  ;    :   ;     ;  \n",
      "  fCCC :;              LCCf      ;;;:         LC :.  ,: C   ;    ;   ; ;   ;  \n",
      "  CCCC  ;;             CCCC    ;;;:           CCi `;;` CC.  ;;;; :;.;.  ; ,;  \n",
      "    CCl ;;             CC    ;;;;              CCC    CCL                     \n",
      "   tCCC  ;;        ;; CCCL  ;;;                  tCCCCC.                      \n",
      "    CCCC  ;;     :;; CCCCf  ;                     ,L                          \n",
      "     lCCC   ;;;;;;  CCCL                                                      \n",
      "     CCCCCC  :;;  fCCCCC                                                      \n",
      "      . CCCC     CCCC .                                                       \n",
      "       .CCCCCCCCCCCCCi                                                        \n",
      "          iCCCCCLCf                                                           \n",
      "           .  C. ,                                                            \n",
      "              :                                                               \n",
      "\n",
      "Status: Cyclus run successful!\n",
      "Output location: pride.sqlite\n",
      "Simulation ID: a3c25a75-55f2-4270-b77b-3d48daec750c\n"
     ]
    }
   ],
   "source": [
    "!rm pride.sqlite\n",
    "!cyclus pride.xml -o pride.sqlite --warn-limit 0"
   ]
  },
  {
   "cell_type": "code",
   "execution_count": 11,
   "metadata": {},
   "outputs": [],
   "source": [
    "cursor_1 = an.get_cursor('pride.sqlite')"
   ]
  },
  {
   "cell_type": "code",
   "execution_count": 15,
   "metadata": {},
   "outputs": [],
   "source": [
    "def stream_quantities(cur,in_dict):\n",
    "    \"\"\" Find total isotopes present in spent fuel output by reactor for each cooling pool and sum cumulatively \n",
    "    \n",
    "    Parameters \n",
    "    ----------\n",
    "    cur: sqlite cursor \n",
    "    \n",
    "    Returns \n",
    "    -------\n",
    "    list of isotopes in spent fuel output by reactors added cumulatively for each cooling pool\n",
    "    \"\"\"    \n",
    "    \n",
    "    streamlist = [\"reduct_waste\",\"refine_TRU_prod\",\"refine_U_prod\",\"volox_waste\",\"winning_waste\"]\n",
    "    stream_dict = {}\n",
    "    \n",
    "    init_yr, init_month, duration, timestep = an.get_timesteps(cur)\n",
    "    for stream in streamlist:\n",
    "        waste = cur.execute('SELECT time, value FROM separationevents '\n",
    "                            'WHERE type= %s' %stream).fetchall()\n",
    "        timeseries = an.get_timeseries(waste, duration, kg_to_tons=True)\n",
    "        \n",
    "        \n",
    "    for x in range(0,5):\n",
    "        streams = streamlist[x]\n",
    "        \n",
    "        init_yr, init_month, duration, timestep = an.get_timesteps(cur)\n",
    "        waste = cur.execute('SELECT time, value FROM separationevents '\n",
    "                                 'WHERE Type =:streams'\n",
    "                                 ' GROUP BY time ',{\"stream\": stream}).fetchall()\n",
    "        waste_list = an.get_timeseries(waste,duration,True)\n",
    "        in_dict = waste_list\n",
    "        \n",
    "    return in_dict"
   ]
  },
  {
   "cell_type": "code",
   "execution_count": null,
   "metadata": {},
   "outputs": [],
   "source": []
  }
 ],
 "metadata": {
  "kernelspec": {
   "display_name": "Python 3",
   "language": "python",
   "name": "python3"
  },
  "language_info": {
   "codemirror_mode": {
    "name": "ipython",
    "version": 3
   },
   "file_extension": ".py",
   "mimetype": "text/x-python",
   "name": "python",
   "nbconvert_exporter": "python",
   "pygments_lexer": "ipython3",
   "version": "3.6.4"
  }
 },
 "nbformat": 4,
 "nbformat_minor": 2
}
